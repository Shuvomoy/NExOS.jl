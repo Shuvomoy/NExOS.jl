{
  "cells": [
    {
      "cell_type": "markdown",
      "source": [
        "### Solving Sparse Regression using `NExOS.jl`\n",
        "\n",
        "The sparse regression problem (also known as regressor selection problem) is concerned with approximating a vector $b\\in\\mathbf{R}^{m}$ with a linear combination of at most $k$ columns of a matrix $A\\in\\mathbf{R}^{m\\times d}$ with bounded coefficients. The problem can be written as the following optimization\n",
        "problem\n",
        "$$\n",
        "\\begin{equation}\n",
        "\\begin{array}{ll}\n",
        "\\textrm{minimize} & \\|Ax-b\\|_{2}^{2}+\\frac{\\beta}{2}\\|x\\|^{2}\\\\\n",
        "\\textrm{subject to} & \\mathbf{card}(x)\\leq k\\\\\n",
        " & \\|x\\|_{\\infty}\\leq M,\n",
        "\\end{array}\n",
        "\\end{equation}\n",
        "$$\n",
        "where $x\\in\\mathbf{R}^{d}$ is the decision variable, and $A\\in\\mathbf{R}^{m\\times d},b\\in\\mathbf{R}^{m},$ and $M>0$ are problem data.\n",
        "\n",
        "First, load the packages."
      ],
      "metadata": {}
    },
    {
      "cell_type": "code",
      "source": [
        "using Random, NExOS, ProximalOperators"
      ],
      "outputs": [],
      "execution_count": 1,
      "metadata": {
        "execution": {
          "iopub.status.busy": "2020-11-11T15:30:42.494Z",
          "iopub.execute_input": "2020-11-11T15:30:43.056Z",
          "iopub.status.idle": "2020-11-11T15:30:55.423Z"
        }
      }
    },
    {
      "cell_type": "markdown",
      "source": [
        "Let us generate some random data for this problem."
      ],
      "metadata": {}
    },
    {
      "cell_type": "code",
      "source": [
        "m = 25\n",
        "n = 50\n",
        "A = randn(m,n)\n",
        "A = randn(m,n)\n",
        "b = randn(m)\n",
        "M = 100\n",
        "k = convert(Int64, round(m/3))\n",
        "beta = 10^-10"
      ],
      "outputs": [
        {
          "output_type": "execute_result",
          "execution_count": 2,
          "data": {
            "text/plain": "1.0000000000000006e-10"
          },
          "metadata": {}
        }
      ],
      "execution_count": 2,
      "metadata": {
        "execution": {
          "iopub.status.busy": "2020-11-11T15:30:55.432Z",
          "iopub.execute_input": "2020-11-11T15:30:55.824Z",
          "iopub.status.idle": "2020-11-11T15:30:57.511Z"
        }
      }
    },
    {
      "cell_type": "markdown",
      "source": [
        "Create the problem instance in `NExOS`."
      ],
      "metadata": {}
    },
    {
      "cell_type": "code",
      "source": [
        "C = SparseSet(M, k) # Create the set\n",
        "f = LeastSquares(A, b, iterative = true) # Create the function\n",
        "settings = Settings(μ_max = 2, μ_min = 1e-8, μ_mult_fact = 0.85, verbose = false, freq = 250, γ_updt_rule = :adaptive, β = beta) # settings\n",
        "z0 = zeros(n) # create an initial point\n",
        "problem = Problem(f, C, settings.β, z0) # problem instance"
      ],
      "outputs": [
        {
          "output_type": "execute_result",
          "execution_count": 3,
          "data": {
            "text/plain": "Problem{ProximalOperators.LeastSquaresIterative{1,Float64,Float64,Array{Float64,2},Array{Float64,1},ProximalOperators.AAc},SparseSet{Int64,Int64},Float64,Array{Float64,1}}(description : Least squares penalty\ndomain      : n/a\nexpression  : n/a\nparameters  : n/a, SparseSet{Int64,Int64}(100, 8), 1.0000000000000006e-10, [0.0, 0.0, 0.0, 0.0, 0.0, 0.0, 0.0, 0.0, 0.0, 0.0  …  0.0, 0.0, 0.0, 0.0, 0.0, 0.0, 0.0, 0.0, 0.0, 0.0])"
          },
          "metadata": {}
        }
      ],
      "execution_count": 3,
      "metadata": {
        "execution": {
          "iopub.status.busy": "2020-11-11T15:30:57.527Z",
          "iopub.execute_input": "2020-11-11T15:30:57.545Z",
          "iopub.status.idle": "2020-11-11T15:30:59.721Z"
        }
      }
    },
    {
      "cell_type": "markdown",
      "source": [
        "Time to solve the problem."
      ],
      "metadata": {}
    },
    {
      "cell_type": "code",
      "source": [
        "state_final = solve!(problem, settings)"
      ],
      "outputs": [
        {
          "output_type": "execute_result",
          "execution_count": 4,
          "data": {
            "text/plain": "State{Array{Float64,1},Int64,Float64}([-1.2524621301508779e-8, -3.6751270002122006e-9, -0.39320187373700755, 9.22653516573817e-9, 1.5129706915674935e-8, 0.4357960444260704, -2.259401393269908e-8, 1.3889241406124104e-9, 2.9730535810395402e-9, 3.06400647086749e-9  …  -3.2479118083545196e-8, 4.836971965759645e-9, 9.191892814264385e-9, 6.675726671290362e-9, -5.168506057262721e-9, -2.2741186563059717e-8, -0.33056126538230574, 2.2996069601239075e-8, -1.5840142859842104e-8, 0.29452540272689054], [-1.3281798144261228e-8, -3.897335289126129e-9, -0.39320187480552615, 9.784345340772926e-9, 1.604439773046142e-8, 0.4357960434548361, -2.3960007157182014e-8, 1.4729021137531158e-9, 3.1527745420703963e-9, 3.2492558819354536e-9  …  -3.4442740642721185e-8, 5.129401262652161e-9, 9.747596517998287e-9, 7.079381206637663e-9, -5.480975565878605e-9, -2.411606745594044e-8, -0.33056126444915457, 2.4386342208835653e-8, -1.6797792548192827e-8, 0.2945254029210682], [1.2457152923814998e-7, 3.655358749296986e-8, -0.39320187373700755, -9.176853095414572e-8, -1.5048229401086435e-7, 0.4357960444260703, 2.2472375979597544e-7, -1.3814530069729425e-8, -2.9570224711745333e-8, -3.0475162600465546e-8  …  3.2304255939302337e-7, -4.8109260166726333e-8, -9.14238480000739e-8, -6.639840840372462e-8, 5.140671388828033e-8, 2.2618745837292143e-7, -0.3305612653823056, -2.28722380435492e-7, 1.5754848049580197e-7, 0.29452540272689054], 2, 1.963622559175989e-9, 3.4442740642721185e-8, 9.385625688121253e-9, 9.68794389337658e-8)"
          },
          "metadata": {}
        }
      ],
      "execution_count": 4,
      "metadata": {
        "execution": {
          "iopub.status.busy": "2020-11-11T15:30:59.733Z",
          "iopub.execute_input": "2020-11-11T15:30:59.740Z",
          "iopub.status.idle": "2020-11-11T15:31:04.435Z"
        }
      }
    },
    {
      "cell_type": "markdown",
      "source": [
        "Let us take a look at the quality of the solution."
      ],
      "metadata": {}
    },
    {
      "cell_type": "code",
      "source": [
        "log10(state_final.fxd_pnt_gap) <= -4 # if the fixed point gap is less than 10^-4 (to determin if the algorithm has converged)"
      ],
      "outputs": [
        {
          "output_type": "execute_result",
          "execution_count": 5,
          "data": {
            "text/plain": "true"
          },
          "metadata": {}
        }
      ],
      "execution_count": 5,
      "metadata": {
        "execution": {
          "iopub.status.busy": "2020-11-11T15:31:04.443Z",
          "iopub.execute_input": "2020-11-11T15:31:04.449Z",
          "iopub.status.idle": "2020-11-11T15:31:04.698Z"
        }
      }
    },
    {
      "cell_type": "code",
      "source": [
        "log10(state_final.fsblt_gap) <= -4 # this is to test if the found solution by NExOS is locally optimal"
      ],
      "outputs": [
        {
          "output_type": "execute_result",
          "execution_count": 6,
          "data": {
            "text/plain": "true"
          },
          "metadata": {}
        }
      ],
      "execution_count": 6,
      "metadata": {
        "execution": {
          "iopub.status.busy": "2020-11-11T15:31:04.705Z",
          "iopub.execute_input": "2020-11-11T15:31:04.711Z",
          "iopub.status.idle": "2020-11-11T15:31:04.724Z"
        }
      }
    },
    {
      "cell_type": "code",
      "source": [
        "f(state_final.x) # this gives the objective value of the solution found by NExOS"
      ],
      "outputs": [
        {
          "output_type": "execute_result",
          "execution_count": 7,
          "data": {
            "text/plain": "1.5220193349339144"
          },
          "metadata": {}
        }
      ],
      "execution_count": 7,
      "metadata": {
        "execution": {
          "iopub.status.busy": "2020-11-11T15:31:04.732Z",
          "iopub.execute_input": "2020-11-11T15:31:04.738Z",
          "iopub.status.idle": "2020-11-11T15:31:04.758Z"
        }
      }
    }
  ],
  "metadata": {
    "language_info": {
      "file_extension": ".jl",
      "name": "julia",
      "mimetype": "application/julia",
      "version": "1.5.0"
    },
    "kernelspec": {
      "name": "julia-1.5",
      "display_name": "Julia 1.5.0",
      "language": "julia"
    },
    "nteract": {
      "version": "0.26.0"
    }
  },
  "nbformat": 4,
  "nbformat_minor": 2
}