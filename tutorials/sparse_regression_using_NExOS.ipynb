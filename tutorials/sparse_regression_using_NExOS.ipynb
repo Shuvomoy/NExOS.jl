{
  "cells": [
    {
      "cell_type": "markdown",
      "source": [
        "### Solving Sparse Regression using `NExOS.jl`\n",
        "\n",
        "The sparse regression problem (also known as regressor selection problem) is concerned with approximating a vector $b\\in\\mathbf{R}^{m}$ with a linear combination of at most $k$ columns of a matrix $A\\in\\mathbf{R}^{m\\times d}$ with bounded coefficients. The problem can be written as the following optimization\n",
        "problem\n",
        "$$\n",
        "\\begin{equation}\n",
        "\\begin{array}{ll}\n",
        "\\textrm{minimize} & \\|Ax-b\\|_{2}^{2}+\\frac{\\beta}{2}\\|x\\|^{2}\\\\\n",
        "\\textrm{subject to} & \\mathbf{card}(x)\\leq k\\\\\n",
        " & \\|x\\|_{\\infty}\\leq M,\n",
        "\\end{array}\n",
        "\\end{equation}\n",
        "$$\n",
        "where $x\\in\\mathbf{R}^{d}$ is the decision variable, and $A\\in\\mathbf{R}^{m\\times d},b\\in\\mathbf{R}^{m},$ and $M>0$ are problem data.\n",
        "\n",
        "First, load the packages."
      ],
      "metadata": {}
    },
    {
      "cell_type": "code",
      "source": [
        "using Random, NExOS, ProximalOperators"
      ],
      "outputs": [],
      "execution_count": 1,
      "metadata": {
        "execution": {
          "iopub.status.busy": "2020-11-08T18:09:31.752Z",
          "iopub.execute_input": "2020-11-08T18:09:32.311Z",
          "iopub.status.idle": "2020-11-08T18:09:43.141Z"
        }
      }
    },
    {
      "cell_type": "markdown",
      "source": [
        "Let us generate some random data for this problem."
      ],
      "metadata": {}
    },
    {
      "cell_type": "code",
      "source": [
        "m = 25\n",
        "n = 50\n",
        "A = randn(m,n)\n",
        "A = randn(m,n)\n",
        "b = randn(m)\n",
        "M = 100\n",
        "k = convert(Int64, round(m/3))\n",
        "beta = 10^-10"
      ],
      "outputs": [
        {
          "output_type": "execute_result",
          "execution_count": 2,
          "data": {
            "text/plain": "1.0000000000000006e-10"
          },
          "metadata": {}
        }
      ],
      "execution_count": 2,
      "metadata": {
        "execution": {
          "iopub.status.busy": "2020-11-08T18:09:53.303Z",
          "iopub.execute_input": "2020-11-08T18:09:53.742Z",
          "iopub.status.idle": "2020-11-08T18:09:54.811Z"
        }
      }
    },
    {
      "cell_type": "markdown",
      "source": [
        "Create the problem instance in `NExOS`."
      ],
      "metadata": {}
    },
    {
      "cell_type": "code",
      "source": [
        "C = SparseSet(M, k) # Create the set\n",
        "f = LeastSquares(A, b, iterative = true) # Create the function\n",
        "setting = NExOS.Setting(μ_max = 2, μ_min = 1e-8, μ_mult_fact = 0.85, verbose = false, freq = 250, γ_updt_rule = :adaptive, β = beta) # setting\n",
        "z0 = zeros(n) # create an initial point\n",
        "problem = NExOS.Problem(f, C, setting.β, z0) # problem instance"
      ],
      "outputs": [
        {
          "output_type": "execute_result",
          "execution_count": 3,
          "data": {
            "text/plain": "Problem{ProximalOperators.LeastSquaresIterative{1,Float64,Float64,Array{Float64,2},Array{Float64,1},ProximalOperators.AAc},SparseSet{Int64,Int64},Float64,Array{Float64,1}}(description : Least squares penalty\ndomain      : n/a\nexpression  : n/a\nparameters  : n/a, SparseSet{Int64,Int64}(100, 8), 1.0000000000000006e-10, [0.0, 0.0, 0.0, 0.0, 0.0, 0.0, 0.0, 0.0, 0.0, 0.0  …  0.0, 0.0, 0.0, 0.0, 0.0, 0.0, 0.0, 0.0, 0.0, 0.0])"
          },
          "metadata": {}
        }
      ],
      "execution_count": 3,
      "metadata": {
        "execution": {
          "iopub.status.busy": "2020-11-08T18:10:09.043Z",
          "iopub.execute_input": "2020-11-08T18:10:09.060Z",
          "iopub.status.idle": "2020-11-08T18:10:10.880Z"
        }
      }
    },
    {
      "cell_type": "markdown",
      "source": [
        "Time to solve the problem."
      ],
      "metadata": {}
    },
    {
      "cell_type": "code",
      "source": [
        "state_final = NExOS.solve!(problem, setting)"
      ],
      "outputs": [
        {
          "output_type": "execute_result",
          "execution_count": 4,
          "data": {
            "text/plain": "State{Array{Float64,1},Int64,Float64}([2.3604068371270658e-9, -1.8614022509121833e-8, 1.4283929504262508e-8, -0.16944938189544959, 1.607411136746223e-8, 1.9905400634770604e-8, 0.29495341217575866, 0.20254672745957286, 3.219912492554042e-8, 2.295088435599488e-8  …  -0.17321307976429576, -4.257769720060745e-8, 0.3490200698603441, -4.066531833939707e-9, -1.8881561945230612e-9, 1.6860244710903703e-8, -6.390798535020245e-9, -7.4146058898080014e-9, 2.3471740858500734e-8, 2.9259207732582412e-8], [2.503142602875358e-9, -1.9739343790018626e-8, 1.5147520155775593e-8, -0.1694493825596602, 1.7045900328179816e-8, 2.1108862617962955e-8, 0.2949534115875845, 0.2025467262194669, 3.414578090974902e-8, 2.4338410440704434e-8  …  -0.17321307916293596, -4.5151862513441285e-8, 0.3490200698298937, -4.312348720089836e-9, -2.0023296492550167e-9, 1.7879582823859328e-8, -6.777157090410619e-9, -7.86286864718721e-9, 2.4890840888034824e-8, 3.1028160171478726e-8], [-2.347730063129355e-8, 1.8513760949107962e-7, -1.420704045266314e-7, -0.16944938189544959, -1.5987550720778272e-7, -1.9798255216803828e-7, 0.29495341217575866, 0.20254672745957286, -3.202573022126649e-7, -2.2827280880911574e-7  …  -0.17321307976429576, 4.2348468931166974e-7, 0.349020069860344, 4.04459959795016e-8, 1.8780106042461643e-8, -1.6769473435006287e-7, 6.35637466708413e-8, 7.374677090721157e-8, -2.3345419886594505e-7, -2.910168024607876e-7], 2, 2.5741653128338348e-9, 4.5151862513441285e-8, 9.385625688121253e-9, 9.68794389337658e-8)"
          },
          "metadata": {}
        }
      ],
      "execution_count": 4,
      "metadata": {
        "execution": {
          "iopub.status.busy": "2020-11-08T18:10:15.625Z",
          "iopub.execute_input": "2020-11-08T18:10:15.635Z",
          "iopub.status.idle": "2020-11-08T18:10:19.545Z"
        }
      }
    },
    {
      "cell_type": "markdown",
      "source": [
        "Let us take a look at the quality of the solution."
      ],
      "metadata": {}
    },
    {
      "cell_type": "code",
      "source": [
        "log10(state_final.fxd_pnt_gap) <= -4 # if the fixed point gap is less than 10^-4 (to determin if the algorithm has converged)"
      ],
      "outputs": [
        {
          "output_type": "execute_result",
          "execution_count": 5,
          "data": {
            "text/plain": "true"
          },
          "metadata": {}
        }
      ],
      "execution_count": 5,
      "metadata": {
        "execution": {
          "iopub.status.busy": "2020-11-08T18:10:27.985Z",
          "iopub.execute_input": "2020-11-08T18:10:27.993Z",
          "iopub.status.idle": "2020-11-08T18:10:28.213Z"
        }
      }
    },
    {
      "cell_type": "code",
      "source": [
        "log10(state_final.fsblt_gap) <= -4 # this is to test if the found solution by NExOS is locally optimal"
      ],
      "outputs": [
        {
          "output_type": "execute_result",
          "execution_count": 6,
          "data": {
            "text/plain": "true"
          },
          "metadata": {}
        }
      ],
      "execution_count": 6,
      "metadata": {
        "execution": {
          "iopub.status.busy": "2020-11-08T18:10:30.403Z",
          "iopub.execute_input": "2020-11-08T18:10:30.411Z",
          "iopub.status.idle": "2020-11-08T18:10:30.424Z"
        }
      }
    },
    {
      "cell_type": "code",
      "source": [
        "f(state_final.x) # this gives the objective value of the solution found by NExOS"
      ],
      "outputs": [
        {
          "output_type": "execute_result",
          "execution_count": 7,
          "data": {
            "text/plain": "2.6773713078392"
          },
          "metadata": {}
        }
      ],
      "execution_count": 7,
      "metadata": {
        "execution": {
          "iopub.status.busy": "2020-11-08T18:10:32.985Z",
          "iopub.execute_input": "2020-11-08T18:10:32.993Z",
          "iopub.status.idle": "2020-11-08T18:10:33.014Z"
        }
      }
    },
    {
      "cell_type": "code",
      "source": [],
      "outputs": [],
      "execution_count": null,
      "metadata": {
        "collapsed": true,
        "jupyter": {
          "source_hidden": false,
          "outputs_hidden": false
        },
        "nteract": {
          "transient": {
            "deleting": false
          }
        }
      }
    }
  ],
  "metadata": {
    "language_info": {
      "file_extension": ".jl",
      "name": "julia",
      "mimetype": "application/julia",
      "version": "1.5.0"
    },
    "kernelspec": {
      "name": "julia-1.5",
      "display_name": "Julia 1.5.0",
      "language": "julia"
    },
    "nteract": {
      "version": "0.26.0"
    }
  },
  "nbformat": 4,
  "nbformat_minor": 2
}